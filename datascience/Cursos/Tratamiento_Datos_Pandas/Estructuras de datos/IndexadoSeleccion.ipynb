{
 "cells": [
  {
   "cell_type": "markdown",
   "id": "67029cbb-c97a-4a26-a7c7-1ff73d989615",
   "metadata": {},
   "source": [
    "# Indexado y selección de datos"
   ]
  },
  {
   "cell_type": "code",
   "execution_count": 2,
   "id": "2046ae3f-f494-46aa-b69b-abb717bb8d0e",
   "metadata": {},
   "outputs": [],
   "source": [
    "import numpy as np\n",
    "import pandas as pd\n",
    "from pathlib import Path\n",
    "\n",
    "datapath = Path('./data')"
   ]
  },
  {
   "cell_type": "code",
   "execution_count": 4,
   "id": "b4e5e289-879a-4841-9f82-327eee8c1707",
   "metadata": {},
   "outputs": [],
   "source": [
    "dataset = pd.read_csv(datapath / 'dataset.csv', sep=',')"
   ]
  },
  {
   "cell_type": "markdown",
   "id": "20a62d90-fc7a-477c-946f-f7374a81eba9",
   "metadata": {
    "tags": []
   },
   "source": [
    "##### Tabla con número de observaciones de una columna "
   ]
  },
  {
   "cell_type": "code",
   "execution_count": 6,
   "id": "4bc21a16-9bf3-4b2e-9683-8d478b39f9bd",
   "metadata": {},
   "outputs": [
    {
     "data": {
      "text/plain": [
       "New York City      50307\n",
       "Los Angeles        32173\n",
       "Dallas             19707\n",
       "Mountain View      14219\n",
       "Austin             12292\n",
       "Boston              8301\n",
       "Washington D.C.     8120\n",
       "San Diego           4881\n",
       "Name: City, dtype: int64"
      ]
     },
     "execution_count": 6,
     "metadata": {},
     "output_type": "execute_result"
    }
   ],
   "source": [
    "dataset['City'].value_counts()"
   ]
  },
  {
   "cell_type": "markdown",
   "id": "b10d9974-29d0-4c69-8f74-3aef5c590465",
   "metadata": {},
   "source": [
    "##### Filtrar por valor"
   ]
  },
  {
   "cell_type": "code",
   "execution_count": 7,
   "id": "d0f00d8f-0f18-4418-8ca5-c1ea45a45b2e",
   "metadata": {},
   "outputs": [
    {
     "data": {
      "text/html": [
       "<div>\n",
       "<style scoped>\n",
       "    .dataframe tbody tr th:only-of-type {\n",
       "        vertical-align: middle;\n",
       "    }\n",
       "\n",
       "    .dataframe tbody tr th {\n",
       "        vertical-align: top;\n",
       "    }\n",
       "\n",
       "    .dataframe thead th {\n",
       "        text-align: right;\n",
       "    }\n",
       "</style>\n",
       "<table border=\"1\" class=\"dataframe\">\n",
       "  <thead>\n",
       "    <tr style=\"text-align: right;\">\n",
       "      <th></th>\n",
       "      <th>Number</th>\n",
       "      <th>City</th>\n",
       "      <th>Gender</th>\n",
       "      <th>Age</th>\n",
       "      <th>Income</th>\n",
       "      <th>Illness</th>\n",
       "    </tr>\n",
       "  </thead>\n",
       "  <tbody>\n",
       "    <tr>\n",
       "      <th>0</th>\n",
       "      <td>1</td>\n",
       "      <td>Dallas</td>\n",
       "      <td>Male</td>\n",
       "      <td>41</td>\n",
       "      <td>40367.0</td>\n",
       "      <td>No</td>\n",
       "    </tr>\n",
       "    <tr>\n",
       "      <th>1</th>\n",
       "      <td>2</td>\n",
       "      <td>Dallas</td>\n",
       "      <td>Male</td>\n",
       "      <td>54</td>\n",
       "      <td>45084.0</td>\n",
       "      <td>No</td>\n",
       "    </tr>\n",
       "    <tr>\n",
       "      <th>2</th>\n",
       "      <td>3</td>\n",
       "      <td>Dallas</td>\n",
       "      <td>Male</td>\n",
       "      <td>42</td>\n",
       "      <td>52483.0</td>\n",
       "      <td>No</td>\n",
       "    </tr>\n",
       "    <tr>\n",
       "      <th>3</th>\n",
       "      <td>4</td>\n",
       "      <td>Dallas</td>\n",
       "      <td>Male</td>\n",
       "      <td>40</td>\n",
       "      <td>40941.0</td>\n",
       "      <td>No</td>\n",
       "    </tr>\n",
       "    <tr>\n",
       "      <th>4</th>\n",
       "      <td>5</td>\n",
       "      <td>Dallas</td>\n",
       "      <td>Male</td>\n",
       "      <td>46</td>\n",
       "      <td>50289.0</td>\n",
       "      <td>No</td>\n",
       "    </tr>\n",
       "    <tr>\n",
       "      <th>...</th>\n",
       "      <td>...</td>\n",
       "      <td>...</td>\n",
       "      <td>...</td>\n",
       "      <td>...</td>\n",
       "      <td>...</td>\n",
       "      <td>...</td>\n",
       "    </tr>\n",
       "    <tr>\n",
       "      <th>19702</th>\n",
       "      <td>19703</td>\n",
       "      <td>Dallas</td>\n",
       "      <td>Female</td>\n",
       "      <td>59</td>\n",
       "      <td>30021.0</td>\n",
       "      <td>No</td>\n",
       "    </tr>\n",
       "    <tr>\n",
       "      <th>19703</th>\n",
       "      <td>19704</td>\n",
       "      <td>Dallas</td>\n",
       "      <td>Male</td>\n",
       "      <td>33</td>\n",
       "      <td>34643.0</td>\n",
       "      <td>No</td>\n",
       "    </tr>\n",
       "    <tr>\n",
       "      <th>19704</th>\n",
       "      <td>19705</td>\n",
       "      <td>Dallas</td>\n",
       "      <td>Male</td>\n",
       "      <td>33</td>\n",
       "      <td>53190.0</td>\n",
       "      <td>No</td>\n",
       "    </tr>\n",
       "    <tr>\n",
       "      <th>19705</th>\n",
       "      <td>19706</td>\n",
       "      <td>Dallas</td>\n",
       "      <td>Male</td>\n",
       "      <td>37</td>\n",
       "      <td>54265.0</td>\n",
       "      <td>No</td>\n",
       "    </tr>\n",
       "    <tr>\n",
       "      <th>19706</th>\n",
       "      <td>19707</td>\n",
       "      <td>Dallas</td>\n",
       "      <td>Male</td>\n",
       "      <td>59</td>\n",
       "      <td>51265.0</td>\n",
       "      <td>No</td>\n",
       "    </tr>\n",
       "  </tbody>\n",
       "</table>\n",
       "<p>19707 rows × 6 columns</p>\n",
       "</div>"
      ],
      "text/plain": [
       "       Number    City  Gender  Age   Income Illness\n",
       "0           1  Dallas    Male   41  40367.0      No\n",
       "1           2  Dallas    Male   54  45084.0      No\n",
       "2           3  Dallas    Male   42  52483.0      No\n",
       "3           4  Dallas    Male   40  40941.0      No\n",
       "4           5  Dallas    Male   46  50289.0      No\n",
       "...       ...     ...     ...  ...      ...     ...\n",
       "19702   19703  Dallas  Female   59  30021.0      No\n",
       "19703   19704  Dallas    Male   33  34643.0      No\n",
       "19704   19705  Dallas    Male   33  53190.0      No\n",
       "19705   19706  Dallas    Male   37  54265.0      No\n",
       "19706   19707  Dallas    Male   59  51265.0      No\n",
       "\n",
       "[19707 rows x 6 columns]"
      ]
     },
     "execution_count": 7,
     "metadata": {},
     "output_type": "execute_result"
    }
   ],
   "source": [
    "dallas_city = dataset[dataset['City'] == \"Dallas\"]\n",
    "dallas_city"
   ]
  },
  {
   "cell_type": "markdown",
   "id": "55d85a1d-0309-4583-9ce3-296f7dfdcb3c",
   "metadata": {},
   "source": [
    "##### Filtrar por dos valores"
   ]
  },
  {
   "cell_type": "code",
   "execution_count": 9,
   "id": "e62a2dde-99d0-413c-8acb-f9824f384e9f",
   "metadata": {},
   "outputs": [
    {
     "data": {
      "text/html": [
       "<div>\n",
       "<style scoped>\n",
       "    .dataframe tbody tr th:only-of-type {\n",
       "        vertical-align: middle;\n",
       "    }\n",
       "\n",
       "    .dataframe tbody tr th {\n",
       "        vertical-align: top;\n",
       "    }\n",
       "\n",
       "    .dataframe thead th {\n",
       "        text-align: right;\n",
       "    }\n",
       "</style>\n",
       "<table border=\"1\" class=\"dataframe\">\n",
       "  <thead>\n",
       "    <tr style=\"text-align: right;\">\n",
       "      <th></th>\n",
       "      <th>Number</th>\n",
       "      <th>City</th>\n",
       "      <th>Gender</th>\n",
       "      <th>Age</th>\n",
       "      <th>Income</th>\n",
       "      <th>Illness</th>\n",
       "    </tr>\n",
       "  </thead>\n",
       "  <tbody>\n",
       "    <tr>\n",
       "      <th>5</th>\n",
       "      <td>6</td>\n",
       "      <td>Dallas</td>\n",
       "      <td>Female</td>\n",
       "      <td>36</td>\n",
       "      <td>50786.0</td>\n",
       "      <td>No</td>\n",
       "    </tr>\n",
       "    <tr>\n",
       "      <th>6</th>\n",
       "      <td>7</td>\n",
       "      <td>Dallas</td>\n",
       "      <td>Female</td>\n",
       "      <td>32</td>\n",
       "      <td>33155.0</td>\n",
       "      <td>No</td>\n",
       "    </tr>\n",
       "    <tr>\n",
       "      <th>9</th>\n",
       "      <td>10</td>\n",
       "      <td>Dallas</td>\n",
       "      <td>Female</td>\n",
       "      <td>30</td>\n",
       "      <td>50082.0</td>\n",
       "      <td>No</td>\n",
       "    </tr>\n",
       "    <tr>\n",
       "      <th>10</th>\n",
       "      <td>11</td>\n",
       "      <td>Dallas</td>\n",
       "      <td>Female</td>\n",
       "      <td>48</td>\n",
       "      <td>41524.0</td>\n",
       "      <td>Yes</td>\n",
       "    </tr>\n",
       "    <tr>\n",
       "      <th>13</th>\n",
       "      <td>14</td>\n",
       "      <td>Dallas</td>\n",
       "      <td>Female</td>\n",
       "      <td>42</td>\n",
       "      <td>50894.0</td>\n",
       "      <td>No</td>\n",
       "    </tr>\n",
       "    <tr>\n",
       "      <th>...</th>\n",
       "      <td>...</td>\n",
       "      <td>...</td>\n",
       "      <td>...</td>\n",
       "      <td>...</td>\n",
       "      <td>...</td>\n",
       "      <td>...</td>\n",
       "    </tr>\n",
       "    <tr>\n",
       "      <th>19690</th>\n",
       "      <td>19691</td>\n",
       "      <td>Dallas</td>\n",
       "      <td>Female</td>\n",
       "      <td>63</td>\n",
       "      <td>41560.0</td>\n",
       "      <td>No</td>\n",
       "    </tr>\n",
       "    <tr>\n",
       "      <th>19692</th>\n",
       "      <td>19693</td>\n",
       "      <td>Dallas</td>\n",
       "      <td>Female</td>\n",
       "      <td>37</td>\n",
       "      <td>47447.0</td>\n",
       "      <td>No</td>\n",
       "    </tr>\n",
       "    <tr>\n",
       "      <th>19699</th>\n",
       "      <td>19700</td>\n",
       "      <td>Dallas</td>\n",
       "      <td>Female</td>\n",
       "      <td>35</td>\n",
       "      <td>47129.0</td>\n",
       "      <td>No</td>\n",
       "    </tr>\n",
       "    <tr>\n",
       "      <th>19701</th>\n",
       "      <td>19702</td>\n",
       "      <td>Dallas</td>\n",
       "      <td>Female</td>\n",
       "      <td>48</td>\n",
       "      <td>46132.0</td>\n",
       "      <td>No</td>\n",
       "    </tr>\n",
       "    <tr>\n",
       "      <th>19702</th>\n",
       "      <td>19703</td>\n",
       "      <td>Dallas</td>\n",
       "      <td>Female</td>\n",
       "      <td>59</td>\n",
       "      <td>30021.0</td>\n",
       "      <td>No</td>\n",
       "    </tr>\n",
       "  </tbody>\n",
       "</table>\n",
       "<p>8705 rows × 6 columns</p>\n",
       "</div>"
      ],
      "text/plain": [
       "       Number    City  Gender  Age   Income Illness\n",
       "5           6  Dallas  Female   36  50786.0      No\n",
       "6           7  Dallas  Female   32  33155.0      No\n",
       "9          10  Dallas  Female   30  50082.0      No\n",
       "10         11  Dallas  Female   48  41524.0     Yes\n",
       "13         14  Dallas  Female   42  50894.0      No\n",
       "...       ...     ...     ...  ...      ...     ...\n",
       "19690   19691  Dallas  Female   63  41560.0      No\n",
       "19692   19693  Dallas  Female   37  47447.0      No\n",
       "19699   19700  Dallas  Female   35  47129.0      No\n",
       "19701   19702  Dallas  Female   48  46132.0      No\n",
       "19702   19703  Dallas  Female   59  30021.0      No\n",
       "\n",
       "[8705 rows x 6 columns]"
      ]
     },
     "execution_count": 9,
     "metadata": {},
     "output_type": "execute_result"
    }
   ],
   "source": [
    "dallas_female = dataset[(dataset['City']==\"Dallas\") & (dataset['Gender']==\"Female\")]\n",
    "dallas_female"
   ]
  },
  {
   "cell_type": "markdown",
   "id": "b4389cd2-8a75-45cf-a8a6-5195db9b4c6e",
   "metadata": {
    "tags": []
   },
   "source": [
    "#### loc y iloc"
   ]
  },
  {
   "cell_type": "code",
   "execution_count": 10,
   "id": "69f4f352-d45e-4fc9-a281-89463ab3787c",
   "metadata": {},
   "outputs": [
    {
     "data": {
      "text/plain": [
       "Number           2\n",
       "City        Dallas\n",
       "Gender        Male\n",
       "Age             54\n",
       "Income     45084.0\n",
       "Illness         No\n",
       "Name: 1, dtype: object"
      ]
     },
     "execution_count": 10,
     "metadata": {},
     "output_type": "execute_result"
    }
   ],
   "source": [
    "dataset.loc[1]"
   ]
  },
  {
   "cell_type": "code",
   "execution_count": 11,
   "id": "831874d9-6f41-456c-ae4e-4b725eff9921",
   "metadata": {},
   "outputs": [
    {
     "data": {
      "text/plain": [
       "Number           2\n",
       "City        Dallas\n",
       "Gender        Male\n",
       "Age             54\n",
       "Income     45084.0\n",
       "Illness         No\n",
       "Name: 1, dtype: object"
      ]
     },
     "execution_count": 11,
     "metadata": {},
     "output_type": "execute_result"
    }
   ],
   "source": [
    "dataset.iloc[1]"
   ]
  },
  {
   "cell_type": "markdown",
   "id": "f15b7df8-aa7f-4910-9c75-1352dc84dd21",
   "metadata": {},
   "source": [
    "###### aunque no se aprecie la diferencia está en que loc coge el índice que tu le des, en cambio iloc se fija en la posición que tu le pases, por lo tanto en un indexado de letras iloc[1] si funcionaria"
   ]
  },
  {
   "cell_type": "code",
   "execution_count": 12,
   "id": "bf9c1fe2-f9ad-4303-a569-3ab60c84a9eb",
   "metadata": {},
   "outputs": [
    {
     "data": {
      "text/plain": [
       "City    Dallas\n",
       "Age         54\n",
       "Name: 1, dtype: object"
      ]
     },
     "execution_count": 12,
     "metadata": {},
     "output_type": "execute_result"
    }
   ],
   "source": [
    "dataset.loc[1, ['City','Age']]"
   ]
  },
  {
   "cell_type": "markdown",
   "id": "61f60ce8-8a3b-49ae-9797-07582827444a",
   "metadata": {
    "tags": []
   },
   "source": [
    "#### iat"
   ]
  },
  {
   "cell_type": "code",
   "execution_count": 13,
   "id": "62c4990f-393d-4349-b25c-14fb6e886910",
   "metadata": {},
   "outputs": [
    {
     "data": {
      "text/plain": [
       "40367.0"
      ]
     },
     "execution_count": 13,
     "metadata": {},
     "output_type": "execute_result"
    }
   ],
   "source": [
    "dataset.iat[0,4]"
   ]
  },
  {
   "cell_type": "markdown",
   "id": "0ae1c574-cf4d-446f-8010-521c76817ecf",
   "metadata": {},
   "source": [
    "###### devuelve el dato de la posición que tu indiques"
   ]
  },
  {
   "cell_type": "code",
   "execution_count": null,
   "id": "e4bf89e3-a60a-4377-a0ec-7d56bbc6e9e7",
   "metadata": {},
   "outputs": [],
   "source": []
  }
 ],
 "metadata": {
  "kernelspec": {
   "display_name": "Python 3 (ipykernel)",
   "language": "python",
   "name": "python3"
  },
  "language_info": {
   "codemirror_mode": {
    "name": "ipython",
    "version": 3
   },
   "file_extension": ".py",
   "mimetype": "text/x-python",
   "name": "python",
   "nbconvert_exporter": "python",
   "pygments_lexer": "ipython3",
   "version": "3.10.9"
  }
 },
 "nbformat": 4,
 "nbformat_minor": 5
}
