{
 "cells": [
  {
   "cell_type": "markdown",
   "id": "1ee35135-4eda-441e-9d54-bfecb22924a2",
   "metadata": {},
   "source": [
    "# Gráficos relacionales"
   ]
  },
  {
   "cell_type": "code",
   "execution_count": null,
   "id": "b48452eb-bb1b-49d0-8f5e-845cd5a3634d",
   "metadata": {},
   "outputs": [],
   "source": [
    "import pandas as pd\n",
    "import numpy as np\n",
    "import matplotlib.pyplot as plt\n",
    "import seaborn as sns\n",
    "import warnings \n",
    "warnings.filterwarnings('ignore')"
   ]
  }
 ],
 "metadata": {
  "kernelspec": {
   "display_name": "Python 3 (ipykernel)",
   "language": "python",
   "name": "python3"
  },
  "language_info": {
   "codemirror_mode": {
    "name": "ipython",
    "version": 3
   },
   "file_extension": ".py",
   "mimetype": "text/x-python",
   "name": "python",
   "nbconvert_exporter": "python",
   "pygments_lexer": "ipython3",
   "version": "3.10.9"
  }
 },
 "nbformat": 4,
 "nbformat_minor": 5
}
