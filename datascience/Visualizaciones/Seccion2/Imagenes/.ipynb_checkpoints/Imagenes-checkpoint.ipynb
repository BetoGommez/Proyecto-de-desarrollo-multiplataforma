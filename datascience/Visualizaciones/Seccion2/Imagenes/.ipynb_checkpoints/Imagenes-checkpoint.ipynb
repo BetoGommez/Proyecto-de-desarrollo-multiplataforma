{
 "cells": [
  {
   "cell_type": "markdown",
   "id": "05f7db55-d57e-4355-91cc-80bea19d7059",
   "metadata": {},
   "source": [
    "# Imagenes"
   ]
  },
  {
   "cell_type": "code",
   "execution_count": 19,
   "id": "8bf943bd-5aee-471e-a52e-b6ede3b1c2d0",
   "metadata": {},
   "outputs": [],
   "source": [
    "import pandas as pd\n",
    "import numpy as np\n",
    "import matplotlib.pyplot as plt\n",
    "\n",
    "import matplotlib.image as mpimg\n",
    "import urllib.request, urllib.error, urllib.parse\n",
    "import warnings \n",
    "warnings.filterwarnings('ignore')\n",
    "\n",
    "%matplotlib inline"
   ]
  },
  {
   "cell_type": "code",
   "execution_count": 21,
   "id": "ca99c7d4-ea8c-41dd-952c-d9fd6b0593cb",
   "metadata": {},
   "outputs": [
    {
     "ename": "NameError",
     "evalue": "name 'PngImagePlugin' is not defined",
     "output_type": "error",
     "traceback": [
      "\u001b[1;31m---------------------------------------------------------------------------\u001b[0m",
      "\u001b[1;31mNameError\u001b[0m                                 Traceback (most recent call last)",
      "Cell \u001b[1;32mIn[21], line 3\u001b[0m\n\u001b[0;32m      1\u001b[0m f \u001b[38;5;241m=\u001b[39murlopen(\u001b[38;5;124m'\u001b[39m\u001b[38;5;124mhttps://raw.githubusercontent.com/tphinkle/tphinkle.github.io/master/images/2017-8-15/mnist_0.png\u001b[39m\u001b[38;5;124m'\u001b[39m)\n\u001b[1;32m----> 3\u001b[0m image \u001b[38;5;241m=\u001b[39m mpimg\u001b[38;5;241m.\u001b[39mimread(\u001b[43mPngImagePlugin\u001b[49m\u001b[38;5;241m.\u001b[39mPngImageFile(BytesIO(f\u001b[38;5;241m.\u001b[39mread())))\n\u001b[0;32m      4\u001b[0m \u001b[38;5;28mprint\u001b[39m(image)\n",
      "\u001b[1;31mNameError\u001b[0m: name 'PngImagePlugin' is not defined"
     ]
    }
   ],
   "source": [
    "f =urlopen()\n",
    "\n",
    "image = mpimg.imread('https://raw.githubusercontent.com/tphinkle/tphinkle.github.io/master/images/2017-8-15/mnist_0.png')\n",
    "print(image)"
   ]
  },
  {
   "cell_type": "code",
   "execution_count": null,
   "id": "1eb4a182-abae-4889-85be-542802a0d17b",
   "metadata": {},
   "outputs": [],
   "source": []
  }
 ],
 "metadata": {
  "kernelspec": {
   "display_name": "Python 3 (ipykernel)",
   "language": "python",
   "name": "python3"
  },
  "language_info": {
   "codemirror_mode": {
    "name": "ipython",
    "version": 3
   },
   "file_extension": ".py",
   "mimetype": "text/x-python",
   "name": "python",
   "nbconvert_exporter": "python",
   "pygments_lexer": "ipython3",
   "version": "3.10.9"
  }
 },
 "nbformat": 4,
 "nbformat_minor": 5
}
