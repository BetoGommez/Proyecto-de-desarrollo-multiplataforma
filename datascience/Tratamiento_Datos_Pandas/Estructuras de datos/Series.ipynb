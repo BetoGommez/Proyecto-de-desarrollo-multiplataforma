{
 "cells": [
  {
   "cell_type": "markdown",
   "id": "cc552ac7-50ab-48fb-8666-f660e96401c6",
   "metadata": {
    "tags": []
   },
   "source": [
    "# Series"
   ]
  },
  {
   "cell_type": "markdown",
   "id": "fc7205ae-edc1-4aeb-99c5-53002a66b078",
   "metadata": {
    "tags": []
   },
   "source": [
    "#### Empezaremos con la importación de las librerias pandas y numpy con los nombres (pd,np)"
   ]
  },
  {
   "cell_type": "code",
   "execution_count": 1,
   "id": "5dbcdb64-38c9-4ff6-a369-5d72ba6b8dc6",
   "metadata": {},
   "outputs": [],
   "source": [
    "import pandas as pd\n",
    "import numpy as np"
   ]
  },
  {
   "cell_type": "markdown",
   "id": "024a3bf1-643f-4255-b493-8d53cf97d437",
   "metadata": {},
   "source": [
    "#### Creación de un array con numpy y su estructuración para visualizado con panda"
   ]
  },
  {
   "cell_type": "code",
   "execution_count": 7,
   "id": "f127fd21-2698-4ab9-a133-a7bd5152cfde",
   "metadata": {},
   "outputs": [
    {
     "data": {
      "text/plain": [
       "0    1\n",
       "1    2\n",
       "2    3\n",
       "3    4\n",
       "4    5\n",
       "dtype: int32"
      ]
     },
     "execution_count": 7,
     "metadata": {},
     "output_type": "execute_result"
    }
   ],
   "source": [
    "valores = np.array([1,2,3,4,5])\n",
    "serie= pd.Series(valores)\n",
    "serie"
   ]
  },
  {
   "cell_type": "markdown",
   "id": "dd79425f-8771-431f-9d3d-09cb1dd5376e",
   "metadata": {},
   "source": [
    "#### Definir tu propio índice"
   ]
  },
  {
   "cell_type": "code",
   "execution_count": 10,
   "id": "1b0f5b6d-2df6-4848-b4de-de6d5687704c",
   "metadata": {},
   "outputs": [
    {
     "data": {
      "text/plain": [
       "a    1\n",
       "b    2\n",
       "c    3\n",
       "d    4\n",
       "e    5\n",
       "dtype: int32"
      ]
     },
     "execution_count": 10,
     "metadata": {},
     "output_type": "execute_result"
    }
   ],
   "source": [
    "serie = pd.Series(valores, index = ['a','b','c','d','e'])\n",
    "serie"
   ]
  },
  {
   "cell_type": "markdown",
   "id": "cf46a4f5-663b-45c7-9802-64cc9549bba6",
   "metadata": {},
   "source": [
    "#### Ejemplo de que pandas funciona bien con numpy"
   ]
  },
  {
   "cell_type": "code",
   "execution_count": 4,
   "id": "08818964-7925-4898-9e2d-da6f0e148965",
   "metadata": {},
   "outputs": [
    {
     "data": {
      "text/plain": [
       "15"
      ]
     },
     "execution_count": 4,
     "metadata": {},
     "output_type": "execute_result"
    }
   ],
   "source": [
    "np.sum(serie)"
   ]
  },
  {
   "cell_type": "markdown",
   "id": "13ac6329-fab3-4dd2-8a9d-2ce0d74b3245",
   "metadata": {},
   "source": [
    "#### Obtención de un dato a través de un índice o posición"
   ]
  },
  {
   "cell_type": "code",
   "execution_count": 14,
   "id": "24169820-7481-42b9-b3ca-0cf8a8b64c8d",
   "metadata": {},
   "outputs": [
    {
     "data": {
      "text/plain": [
       "2"
      ]
     },
     "execution_count": 14,
     "metadata": {},
     "output_type": "execute_result"
    }
   ],
   "source": [
    "serie['b']\n",
    "serie[1]"
   ]
  },
  {
   "cell_type": "markdown",
   "id": "8338ac17-ad52-4c5b-9b80-cd585bc83eee",
   "metadata": {},
   "source": [
    "#### Transformar array de vuelta a numpy"
   ]
  },
  {
   "cell_type": "code",
   "execution_count": 15,
   "id": "27dc6f49-8e32-4008-bb19-7d6404790b0d",
   "metadata": {},
   "outputs": [
    {
     "data": {
      "text/plain": [
       "array([1, 2, 3, 4, 5])"
      ]
     },
     "execution_count": 15,
     "metadata": {},
     "output_type": "execute_result"
    }
   ],
   "source": [
    "serie.to_numpy()"
   ]
  },
  {
   "cell_type": "markdown",
   "id": "6b36a3ae-3b62-4462-b953-99bb338f8080",
   "metadata": {},
   "source": [
    "#### Crear nuevo valor"
   ]
  },
  {
   "cell_type": "code",
   "execution_count": 16,
   "id": "fa2e99ad-9633-4982-a179-dd56f85fdc26",
   "metadata": {},
   "outputs": [],
   "source": [
    "serie['f'] = 6"
   ]
  },
  {
   "cell_type": "code",
   "execution_count": 17,
   "id": "89c9f7d1-a63d-45b7-9679-1846792bde16",
   "metadata": {},
   "outputs": [
    {
     "data": {
      "text/plain": [
       "a    1\n",
       "b    2\n",
       "c    3\n",
       "d    4\n",
       "e    5\n",
       "f    6\n",
       "dtype: int32"
      ]
     },
     "execution_count": 17,
     "metadata": {},
     "output_type": "execute_result"
    }
   ],
   "source": [
    "serie"
   ]
  },
  {
   "cell_type": "markdown",
   "id": "355f8f94-27f1-4596-8479-43c7e98b0574",
   "metadata": {},
   "source": [
    "#### Checkear si existe índice"
   ]
  },
  {
   "cell_type": "code",
   "execution_count": 18,
   "id": "8cbe5a4e-417b-47ea-a871-c2c746427cb9",
   "metadata": {},
   "outputs": [
    {
     "data": {
      "text/plain": [
       "True"
      ]
     },
     "execution_count": 18,
     "metadata": {},
     "output_type": "execute_result"
    }
   ],
   "source": [
    "'f' in serie"
   ]
  },
  {
   "cell_type": "markdown",
   "id": "85f40963-d250-4f15-8cdf-77c7e25036a8",
   "metadata": {},
   "source": [
    "#### Devolver todo el array modificado"
   ]
  },
  {
   "cell_type": "code",
   "execution_count": 19,
   "id": "e3ae0ab7-d35d-4ac8-b575-32a4c66db640",
   "metadata": {},
   "outputs": [
    {
     "data": {
      "text/plain": [
       "a     2\n",
       "b     4\n",
       "c     6\n",
       "d     8\n",
       "e    10\n",
       "f    12\n",
       "dtype: int32"
      ]
     },
     "execution_count": 19,
     "metadata": {},
     "output_type": "execute_result"
    }
   ],
   "source": [
    "serie*2"
   ]
  },
  {
   "cell_type": "markdown",
   "id": "8714f7fd-953c-4755-8340-87f0ebe2e61e",
   "metadata": {
    "tags": []
   },
   "source": [
    "#### Sumar arrays"
   ]
  },
  {
   "cell_type": "code",
   "execution_count": 20,
   "id": "cc01eb88-7c84-4f4b-b6bb-954fc350d53e",
   "metadata": {},
   "outputs": [
    {
     "data": {
      "text/plain": [
       "b    8\n",
       "c    3\n",
       "a    5\n",
       "e    6\n",
       "d    7\n",
       "f    3\n",
       "dtype: int32"
      ]
     },
     "execution_count": 20,
     "metadata": {},
     "output_type": "execute_result"
    }
   ],
   "source": [
    "serie2 = pd.Series(np.random.randint(0,10,6), index=['b','c','a','e','d','f'])\n",
    "serie2"
   ]
  },
  {
   "cell_type": "code",
   "execution_count": 21,
   "id": "26ee31a2-bf03-438c-abf7-114b2ff0cb07",
   "metadata": {},
   "outputs": [
    {
     "data": {
      "text/plain": [
       "a     6\n",
       "b    10\n",
       "c     6\n",
       "d    11\n",
       "e    11\n",
       "f     9\n",
       "dtype: int32"
      ]
     },
     "execution_count": 21,
     "metadata": {},
     "output_type": "execute_result"
    }
   ],
   "source": [
    "serie+serie2"
   ]
  },
  {
   "cell_type": "markdown",
   "id": "ba5d3d0f-cc2f-4008-b2ba-49611db64eab",
   "metadata": {},
   "source": [
    "##### como se puede ver arriba suma índice a índice"
   ]
  },
  {
   "cell_type": "markdown",
   "id": "6eb6fcc1-9c23-407a-abec-8b6bc52eab7e",
   "metadata": {
    "tags": []
   },
   "source": [
    "#### Inconcluencia de índices"
   ]
  },
  {
   "cell_type": "code",
   "execution_count": 23,
   "id": "adccb28f-566d-4ad3-bf8c-b03cd9992e7b",
   "metadata": {},
   "outputs": [
    {
     "data": {
      "text/plain": [
       "a     6.0\n",
       "b    10.0\n",
       "c     6.0\n",
       "d    11.0\n",
       "e    11.0\n",
       "f     9.0\n",
       "g     NaN\n",
       "dtype: float64"
      ]
     },
     "execution_count": 23,
     "metadata": {},
     "output_type": "execute_result"
    }
   ],
   "source": [
    "serie2['g']=10\n",
    "serie2+serie"
   ]
  },
  {
   "cell_type": "markdown",
   "id": "de5103f2-34eb-431f-b9a0-adbd74eddf28",
   "metadata": {},
   "source": [
    "##### en el caso de no concordar quedará con valor NaN"
   ]
  },
  {
   "cell_type": "code",
   "execution_count": null,
   "id": "1851c1d7-72bb-4d1f-bbb8-e8780325c9f1",
   "metadata": {},
   "outputs": [],
   "source": []
  }
 ],
 "metadata": {
  "kernelspec": {
   "display_name": "Python 3 (ipykernel)",
   "language": "python",
   "name": "python3"
  },
  "language_info": {
   "codemirror_mode": {
    "name": "ipython",
    "version": 3
   },
   "file_extension": ".py",
   "mimetype": "text/x-python",
   "name": "python",
   "nbconvert_exporter": "python",
   "pygments_lexer": "ipython3",
   "version": "3.10.9"
  }
 },
 "nbformat": 4,
 "nbformat_minor": 5
}
