{
 "cells": [
  {
   "cell_type": "markdown",
   "id": "09fea3e7-adda-4198-b250-a00f42fc4f13",
   "metadata": {},
   "source": [
    "# Multindex"
   ]
  },
  {
   "cell_type": "code",
   "execution_count": 1,
   "id": "a243d32c-aa49-47db-a8e2-5020d2b50ef2",
   "metadata": {},
   "outputs": [],
   "source": [
    "import numpy as np\n",
    "import pandas as pd"
   ]
  },
  {
   "cell_type": "code",
   "execution_count": 3,
   "id": "c029f84f-5fef-4b68-ba98-21b90a2ae129",
   "metadata": {},
   "outputs": [
    {
     "data": {
      "text/plain": [
       "0      0\n",
       "1      1\n",
       "2      2\n",
       "3      3\n",
       "4      4\n",
       "5      5\n",
       "6      6\n",
       "7      7\n",
       "8      8\n",
       "9      9\n",
       "10    10\n",
       "11    11\n",
       "dtype: int32"
      ]
     },
     "execution_count": 3,
     "metadata": {},
     "output_type": "execute_result"
    }
   ],
   "source": [
    "s = pd.Series(np.arange(12))\n",
    "s"
   ]
  },
  {
   "cell_type": "code",
   "execution_count": 4,
   "id": "d4447a08-9c57-4092-a1cc-999874f46938",
   "metadata": {},
   "outputs": [
    {
     "data": {
      "text/plain": [
       "array([ 0,  1,  2,  3,  4,  5,  6,  7,  8,  9, 10, 11], dtype=int64)"
      ]
     },
     "execution_count": 4,
     "metadata": {},
     "output_type": "execute_result"
    }
   ],
   "source": [
    "s.index.values"
   ]
  },
  {
   "cell_type": "markdown",
   "id": "319c4daf-2d83-48d7-9597-a512046bb4dd",
   "metadata": {},
   "source": [
    "##### se pueden realiza de varias maneras pero básicamente sirve para indexar los propios indices, un jemplo sería clasificarlos como importantes o no importantes o incluso agruparlos por secciones"
   ]
  },
  {
   "cell_type": "code",
   "execution_count": null,
   "id": "dfdefb98-5508-4980-b7ae-fd8eb6cea4c1",
   "metadata": {},
   "outputs": [],
   "source": []
  }
 ],
 "metadata": {
  "kernelspec": {
   "display_name": "Python 3 (ipykernel)",
   "language": "python",
   "name": "python3"
  },
  "language_info": {
   "codemirror_mode": {
    "name": "ipython",
    "version": 3
   },
   "file_extension": ".py",
   "mimetype": "text/x-python",
   "name": "python",
   "nbconvert_exporter": "python",
   "pygments_lexer": "ipython3",
   "version": "3.10.9"
  }
 },
 "nbformat": 4,
 "nbformat_minor": 5
}
